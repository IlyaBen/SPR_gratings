{
 "cells": [
  {
   "cell_type": "code",
   "execution_count": 2,
   "metadata": {},
   "outputs": [],
   "source": [
    "from xmlrpc.client import _datetime_type\n",
    "\n",
    "import matplotlib.pyplot as plt\n",
    "import numpy as np\n",
    "import math\n",
    "import cmath"
   ]
  },
  {
   "cell_type": "markdown",
   "metadata": {},
   "source": [
    "__Propogation matrix function__"
   ]
  },
  {
   "cell_type": "code",
   "execution_count": 3,
   "metadata": {},
   "outputs": [],
   "source": [
    "## matrix which describes propagation of light within layer \n",
    "## k_x - wavenumber along x; d - thickness of layer; \n",
    "## epsilon - dielectric constant of the layer; k_0 - wavenumber in vaccum\n",
    "def t_propogation(k_0, k_x, d, epsilon):\n",
    "    k_z = (k_0**2*epsilon - k_x**2)**(1/2)\n",
    "    T = np.zeros((2,2), dtype=np.complex128)\n",
    "    T[0][0] = np.exp(1j*k_z*d)\n",
    "    T[1][1] = np.exp(-1j*k_z*d)\n",
    "    return T"
   ]
  },
  {
   "cell_type": "markdown",
   "metadata": {},
   "source": [
    "__Interface matrix function__"
   ]
  },
  {
   "cell_type": "code",
   "execution_count": 4,
   "metadata": {},
   "outputs": [],
   "source": [
    "## matrix which describes boundary conditions on the interface; \n",
    "## e_1 - dielectric constant of layer from which light incident, \n",
    "## e_2 - dielectric constant of the second layer\n",
    "def t_interface(polarization, e_1, e_2, k_x, k_0):\n",
    "    k_z_1 = (k_0 ** 2 * e_1 - k_x ** 2)**(1/2)\n",
    "    k_z_2 = (k_0 ** 2 * e_2 - k_x ** 2)**(1/2)\n",
    "    F_1 = np.ones((2,2), dtype=np.complex128)\n",
    "    F_2 = np.ones((2,2), dtype=np.complex128)\n",
    "    if polarization == 1: # s-polarization\n",
    "        F_1[1][0] = -k_z_1/k_0\n",
    "        F_1[1][1] = k_z_1/k_0\n",
    "        F_2[1][0] = -k_z_2 / k_0\n",
    "        F_2[1][1] = k_z_2 / k_0\n",
    "    else:                 # p-polarization\n",
    "        F_1[0][0] = k_z_1/(k_0 * e_1)\n",
    "        F_1[0][1] = k_z_1/(k_0 * e_1)\n",
    "        F_1[1][1] = -1\n",
    "        F_2[0][0] = k_z_2 / (k_0 * e_2)\n",
    "        F_2[0][1] = k_z_2 / (k_0 * e_2)\n",
    "        F_2[1][1] = -1\n",
    "    F = np.zeros((2,2), dtype=np.complex128)\n",
    "    inverse_F_2 = np.linalg.inv(F_2)\n",
    "    F = inverse_F_2 @ F_1\n",
    "    return F"
   ]
  },
  {
   "cell_type": "markdown",
   "metadata": {},
   "source": [
    "__Define Gauss beam parameters__"
   ]
  },
  {
   "cell_type": "code",
   "execution_count": 59,
   "metadata": {},
   "outputs": [],
   "source": [
    "def gaussian(x, width,  E_0=1):\n",
    "    return E_0 * np.exp(-x**2 / 4 / width**2) * (2 * np.pi)**(-.25) *width**(-.5)"
   ]
  },
  {
   "cell_type": "code",
   "execution_count": 60,
   "metadata": {},
   "outputs": [],
   "source": [
    "def gaussian_fourier(k_x, width, E_0=1):\n",
    "    return E_0 * np.exp(-k_x**2 / width**2) / (2**(-.25) * np.pi) * width**(.5)"
   ]
  },
  {
   "cell_type": "markdown",
   "metadata": {},
   "source": [
    "__Chebychev grid__"
   ]
  },
  {
   "cell_type": "code",
   "execution_count": 42,
   "metadata": {},
   "outputs": [],
   "source": [
    "# make chebyshev grid\n",
    "def chebyshev_grid(N, wavelength):\n",
    "    k_0 = 2*np.pi/wavelength\n",
    "    \n",
    "    g = lambda k: np.cos(np.pi*(2*k + 1)/(2*(N + 1)))\n",
    "    x = np.linspace(0, N, N+1)\n",
    "    return k_0*g(x) #[1:][:-1]\n",
    "\n",
    "def uniform_grid(N, wavelength):\n",
    "    k_0 = 2*np.pi/wavelength\n",
    "    \n",
    "    x = np.linspace(-k_0, k_0, N)\n",
    "    \n",
    "    return x[1:][:-1]"
   ]
  },
  {
   "cell_type": "markdown",
   "metadata": {},
   "source": [
    "__Calculation of transmission and reflection for angular representation__\n",
    "k_x_old, k_z_old - in the beam reference"
   ]
  },
  {
   "cell_type": "code",
   "execution_count": 8,
   "metadata": {},
   "outputs": [],
   "source": [
    "def find_TMM(angle, wavelength, epsilon_list, width_list, pol=0):\n",
    "    T = np.array([[1, 0], [0, 1]])\n",
    "   \n",
    "    k_0 = 2*np.pi/wavelength\n",
    "    k_x = k_0*np.sin(np.pi*angle/180)*epsilon_list[0]**(1./2)\n",
    "        \n",
    "    for i in range(len(epsilon_list)):\n",
    "        if i != len(epsilon_list)-1:\n",
    "            if i == 0:\n",
    "                eps1 = epsilon_list[0]\n",
    "                eps2 = epsilon_list[1]\n",
    "                T = t_interface(pol, eps1, eps2, k_x, k_0) @ T\n",
    "            else:\n",
    "                eps1 = epsilon_list[i]\n",
    "                eps2 = epsilon_list[i+1]\n",
    "                    \n",
    "                T = t_propogation(k_0, k_x, width_list[i-1], eps1) @ T                   \n",
    "                T = t_interface(pol, eps1, eps2, k_x, k_0) @ T\n",
    "        else:\n",
    "            break\n",
    "    \n",
    "    return T        "
   ]
  },
  {
   "cell_type": "markdown",
   "metadata": {},
   "source": [
    "__Calculation of reflection__"
   ]
  },
  {
   "cell_type": "markdown",
   "metadata": {},
   "source": [
    " $$ TTM = \\frac1{t_{21}} \\begin{bmatrix}\n",
    "           t_{12}t_{21}-r_{12}r_{21} & r_{21} \\\\\n",
    "           -r_{12} & 1 \\\\\n",
    "         \\end{bmatrix} $$"
   ]
  },
  {
   "cell_type": "code",
   "execution_count": 9,
   "metadata": {},
   "outputs": [],
   "source": [
    "def find_r_t(T):\n",
    "    t_21 = 1/T[1][1]\n",
    "    r_21 = T[0][1] * t_21\n",
    "    \n",
    "    r_12 = -T[1][0] * t_21\n",
    "    t_12 = T[0][0] + r_12 * r_21 / t_21\n",
    "    \n",
    "    return r_12, t_12        "
   ]
  },
  {
   "cell_type": "code",
   "execution_count": 18,
   "metadata": {},
   "outputs": [],
   "source": [
    "def phi_plane_wave(angle, k_x_old, wavelength):\n",
    "    k_0 = 2*np.pi/wavelength\n",
    "    k_z_old = np.sqrt(k_0**2 - k_x_old**2)\n",
    "        \n",
    "    k_x = np.cos(np.pi * angle / 180) * k_x_old + np.sin(np.pi * angle / 180) * k_z_old\n",
    "    k_z = -np.sin(np.pi * angle / 180) * k_x_old + np.cos(np.pi * angle / 180) * k_z_old\n",
    "    \n",
    "    phi = abs(np.arctan(k_x / k_z))\n",
    "    \n",
    "    return phi"
   ]
  },
  {
   "cell_type": "code",
   "execution_count": 38,
   "metadata": {},
   "outputs": [],
   "source": [
    "#PARAMETERS\n",
    "wavelength = 1550\n",
    "k_0 = 2*np.pi/wavelength\n",
    "\n",
    "e_prism = np.complex(4, 0) # refractive index of prism, in future we will make iteration\n",
    "e_mos2 = np.complex(14.080688, 0)\n",
    "e_gold = np.complex(118.94878, 13.01471)\n",
    "\n",
    "theta = 40\n",
    "\n",
    "gold_thickness = 30 # thickness of gold in future we will make iterations\n",
    "\n",
    "pol = 0 # 0 - p-polarization; consider only this polarization because s-polarization cann't induce plasmon polariton\n",
    "\n",
    "epsilon_list = [e_prism, e_gold, e_mos2, 1]\n",
    "width_list = [gold_thickness, .73]\n",
    "\n",
    "weight_t = []\n",
    "\n",
    "weight_r = []\n",
    "\n",
    "for k_x_old in chebyshev_grid(30, wavelength):\n",
    "    phi = phi_plane_wave(theta, k_x_old, wavelength)\n",
    "    \n",
    "    TMM = find_TMM(angle=phi, wavelength=wavelength, epsilon_list=epsilon_list, width_list=width_list)            \n",
    "\n",
    "    r, t = find_r_t(TMM)\n",
    "\n",
    "    weight_t.append(t)\n",
    "    \n",
    "    weight_r.append(r)"
   ]
  },
  {
   "cell_type": "code",
   "execution_count": 39,
   "metadata": {},
   "outputs": [],
   "source": [
    "def lagranz(x,y,t): # lagranz interpolation\n",
    "    z=0\n",
    "    for j in range(len(y)):\n",
    "        num = 1; den = 1\n",
    "        for i in range(len(x)):\n",
    "            if i==j:\n",
    "                num = num*1; den = den*1   \n",
    "            else: \n",
    "                num = num*(t-x[i])\n",
    "                den = den*(x[j]-x[i])\n",
    "        z=z+y[j]*num/den\n",
    "    return z"
   ]
  },
  {
   "cell_type": "markdown",
   "metadata": {},
   "source": [
    "$$\\int_{-k}^{k}dk_x^{'}E_w[k_x^{'}] t[k_x^{'}]e^{ik_x^{'}x}$$"
   ]
  },
  {
   "cell_type": "code",
   "execution_count": 103,
   "metadata": {},
   "outputs": [],
   "source": [
    "def integral_t_E_fourier(x, angle_old, wavelength, epsilon_list, width_list, gauss_width=1e3, E_0=1, \n",
    "                N_points = 30, grid_method=uniform_grid):\n",
    "    k_0 = 2*np.pi/wavelength\n",
    "    Int = 0\n",
    "    k_x_old_1 = -k_0\n",
    "    \n",
    "    \n",
    "    for k_x_old in grid_method(N_points, wavelength):\n",
    "        phi = phi_plane_wave(angle_old, k_x_old, wavelength)\n",
    "    \n",
    "        TMM = find_TMM(angle=phi, wavelength=wavelength, epsilon_list=epsilon_list, \n",
    "                       width_list=width_list)            \n",
    "\n",
    "        _, t = find_r_t(TMM)\n",
    "        E_k_x_old = gaussian_fourier(k_x_old, gauss_width, E_0)\n",
    "        E_x_old_transformed = t * E_k_x_old * np.exp(1j*k_x_old*x)\n",
    "        #print(E_x_old_transformed)\n",
    "        #take into account absence of boundary points -k_0 and k_0 does not include into consideration\n",
    "         \n",
    "        delta_k = k_x_old - k_x_old_1\n",
    "        \n",
    "        Int += delta_k * E_x_old_transformed\n",
    "        k_x_old_1 = k_x_old\n",
    "        \n",
    "    return Int"
   ]
  },
  {
   "cell_type": "code",
   "execution_count": 119,
   "metadata": {},
   "outputs": [],
   "source": [
    "def integral_x_old(angle_old, wavelength, epsilon_list, width_list, gauss_width=1e3, \n",
    "                   E_0=1, N_x_points=400, N_points = 30, grid_method=uniform_grid):\n",
    "    \n",
    "    Int = 0\n",
    "    interval = np.linspace(-2*gauss_width, 0, N_x_points) #cut positive side because of symmetry\n",
    "    #x1 = -np.inf\n",
    "    for x in interval:\n",
    "        \n",
    "        Int_t_E = integral_t_E_fourier(x, angle_old, wavelength, epsilon_list, width_list, E_0=E_0,  \n",
    "                             gauss_width=gauss_width,N_points = N_points, grid_method=grid_method)\n",
    "        #print('Int_t_E', Int_t_E)\n",
    "        if x == interval[0]:\n",
    "            x1 = x\n",
    "        x2 = x\n",
    "        delta_x = x2 - x1\n",
    "        \n",
    "        Int += delta_x * abs(Int_t_E)**2\n",
    "       # print(delta_x,'*** Int', Int)\n",
    "        x1 = x\n",
    "    return 2*Int"
   ]
  },
  {
   "cell_type": "code",
   "execution_count": 117,
   "metadata": {},
   "outputs": [],
   "source": [
    "def integral_x_old_normirovka(angle_old, wavelength, gauss_width=1e3, \n",
    "                   E_0=1, N_x_points=50, N_points = 50, grid_method=uniform_grid):\n",
    "    Int = 0\n",
    "    Int_E = 0\n",
    "    interval = np.linspace(-2*gauss_width, 0, N_x_points) #cut positive side because of symmetry\n",
    "    \n",
    "    k_0 = 2*np.pi/wavelength\n",
    "    k_x_old_1 = -k_0\n",
    "    \n",
    "    for x in interval:\n",
    "        for k_x_old in grid_method(N_points, wavelength):\n",
    "            E_k_x_old = gaussian_fourier(k_x_old, gauss_width, E_0)\n",
    "            E_x_old_transformed = E_k_x_old * np.exp(1j*k_x_old*x)\n",
    "        #take into account absence of boundary points -k_0 and k_0 does not include into consideration\n",
    "            delta_k = k_x_old - k_x_old_1\n",
    "            Int_E += delta_k * E_x_old_transformed\n",
    "            #if x == 0:\n",
    "            #    print(Int_E)\n",
    "            k_x_old_1 = k_x_old\n",
    "        \n",
    "        if x == interval[0]:\n",
    "            x1 = x\n",
    "        x2 = x\n",
    "        delta_x = x2 - x1\n",
    "        \n",
    "        Int += delta_x * abs(Int_E)**2\n",
    "        x1 = x\n",
    "        \n",
    "    return 2*Int"
   ]
  },
  {
   "cell_type": "code",
   "execution_count": 118,
   "metadata": {},
   "outputs": [
    {
     "data": {
      "text/plain": [
       "2611.3589143529653"
      ]
     },
     "execution_count": 118,
     "metadata": {},
     "output_type": "execute_result"
    }
   ],
   "source": [
    "integral_x_old_normirovka(angle_old=theta, wavelength=wavelength)"
   ]
  },
  {
   "cell_type": "code",
   "execution_count": 108,
   "metadata": {},
   "outputs": [
    {
     "data": {
      "text/plain": [
       "(0.0020165075234850225+0.015395869156774412j)"
      ]
     },
     "execution_count": 108,
     "metadata": {},
     "output_type": "execute_result"
    }
   ],
   "source": [
    "integral_t_E_fourier(0, theta, wavelength, epsilon_list, width_list, gauss_width=1e3, E_0=1, \n",
    "                N_points = 10, grid_method=uniform_grid)"
   ]
  },
  {
   "cell_type": "code",
   "execution_count": 120,
   "metadata": {},
   "outputs": [
    {
     "data": {
      "text/plain": [
       "0.22057865952289155"
      ]
     },
     "execution_count": 120,
     "metadata": {},
     "output_type": "execute_result"
    }
   ],
   "source": [
    "integral_x_old(theta, wavelength, epsilon_list, width_list)"
   ]
  },
  {
   "cell_type": "markdown",
   "metadata": {},
   "source": [
    "__Plot results__"
   ]
  },
  {
   "cell_type": "code",
   "execution_count": 22,
   "metadata": {},
   "outputs": [
    {
     "data": {
      "image/png": "[encoded data removed]",
      "text/plain": [
       "<Figure size 432x288 with 2 Axes>"
      ]
     },
     "metadata": {
      "needs_background": "light"
     },
     "output_type": "display_data"
    }
   ],
   "source": [
    "%matplotlib inline\n",
    "import numpy as np\n",
    "import matplotlib.pyplot as plt\n",
    "from ipywidgets import interactive\n",
    "import seaborn as sb\n",
    "\n",
    "x = frequency_range\n",
    "y = theta\n",
    "\n",
    "x, y = np.meshgrid(x, y)\n",
    "\n",
    "z = reflection\n",
    "\n",
    "ax = sb.heatmap(z)\n",
    "# ax.invert_yaxis()"
   ]
  },
  {
   "cell_type": "code",
   "execution_count": 23,
   "metadata": {},
   "outputs": [
    {
     "name": "stdout",
     "output_type": "stream",
     "text": [
      "0.16479494510800108\n",
      "0.16478496802807435\n",
      "0.16477247874187323\n",
      "0.16475750975590953\n",
      "0.16474010031222913\n",
      "0.1647202964439005\n",
      "0.16469815104056404\n",
      "0.16467372392435398\n",
      "0.1646470819365602\n",
      "0.16461829903545094\n",
      "0.16458745640573627\n",
      "0.1645546425802105\n",
      "0.16451995357418575\n",
      "0.1644834930333877\n",
      "0.16444537239607573\n",
      "0.16440571107022006\n",
      "0.1643646366266634\n",
      "0.16432228500929358\n",
      "0.16427880076335738\n",
      "0.16423433728316272\n",
      "0.16418905708054535\n",
      "0.16414313207561596\n",
      "0.16409674391145776\n",
      "0.1640500842946115\n",
      "0.16400335536338623\n",
      "0.16395677008622253\n",
      "0.16391055269258348\n",
      "0.1638649391391006\n",
      "0.1638201776139854\n",
      "0.1637765290830386\n",
      "0.16373426788095222\n",
      "0.1636936823519866\n",
      "0.16365507554456865\n",
      "0.16361876596484531\n",
      "0.16358508839480584\n",
      "0.16355439478121683\n",
      "0.16352705520233762\n",
      "0.163503458920203\n",
      "0.16348401552717814\n",
      "0.16346915619654934\n",
      "0.1634593350481011\n",
      "0.16345503064100708\n",
      "0.163456747607902\n",
      "0.16346501844580755\n",
      "0.16348040548162004\n",
      "0.1635035030322293\n",
      "0.16353493978206388\n",
      "0.16357538140399278\n",
      "0.1636255334531678\n",
      "0.16368614456762218\n",
      "0.1637580100143828\n",
      "0.16384197562562247\n",
      "0.16393894217614607\n",
      "0.16404987026146825\n",
      "0.16417578574510838\n",
      "0.16431778585486137\n",
      "0.16447704602098412\n",
      "0.16465482756496844\n",
      "0.164852486366399\n",
      "0.16507148265799765\n",
      "0.16531339212623825\n",
      "0.16557991852794282\n",
      "0.16587290807350039\n",
      "0.1661943658765013\n",
      "0.166546474830016\n",
      "0.16693161734439504\n",
      "0.16735240047419878\n",
      "0.16781168507774583\n",
      "0.16831261979845955\n",
      "0.1688586808415769\n",
      "0.16945371875475326\n",
      "0.17010201372276093\n",
      "0.17080834127678807\n",
      "0.17157805082815483\n",
      "0.1724171601067523\n",
      "0.17333246947576186\n",
      "0.17433170129118045\n",
      "0.1754236711001571\n",
      "0.17661849970626575\n",
      "0.17792787824074033\n",
      "0.17936540277232013\n",
      "0.1809470012905522\n",
      "0.18269148509226846\n",
      "0.18462127027030467\n",
      "0.18676333575187776\n",
      "0.18915051656685894\n",
      "0.1918232824227482\n",
      "0.19483223607167593\n",
      "0.19824170933103552\n",
      "0.20213508782021322\n",
      "0.2066229634238785\n",
      "0.21185612623328892\n",
      "0.21804730784410448\n",
      "0.22550987515533097\n",
      "0.2347323921423158\n",
      "0.2465386769918565\n",
      "0.26248970664377186\n",
      "0.28618694753726215\n",
      "0.33058253935495885\n",
      "0.481186855107371\n",
      "0.49326579649594154\n",
      "0.47319148991985227\n",
      "0.4389095745376838\n",
      "0.399051419522003\n",
      "0.35858449702617523\n",
      "0.32020255023183003\n",
      "0.285168718606165\n",
      "0.2539004720505691\n",
      "0.22635393413863425\n",
      "0.20225933492071468\n",
      "0.18125642093590583\n",
      "0.1629675689134719\n",
      "0.14703423069043298\n",
      "0.1331327727221411\n",
      "0.1209792664724854\n",
      "0.11032870307192573\n",
      "0.10097166635418442\n",
      "0.09273008801268383\n",
      "0.08545291335756959\n",
      "0.079012068102406\n",
      "0.07329888181210784\n",
      "0.06822100256570085\n",
      "0.063699778843488\n",
      "0.05966805974869333\n",
      "0.0560683573019496\n",
      "0.05285131583058653\n",
      "0.04997443861609266\n",
      "0.04740102843855171\n",
      "0.04509930519750911\n",
      "0.04304166980840227\n",
      "0.041204088848412826\n",
      "0.039565578916561046\n",
      "0.03810777342911543\n",
      "0.03681455767812626\n",
      "0.03567176053240112\n",
      "0.034666893246891\n",
      "0.03378892754899102\n",
      "0.03302810655807713\n",
      "0.03237578322591341\n",
      "0.03182428190847994\n",
      "0.03136677943364554\n",
      "0.03099720264592598\n",
      "0.030710139915247785\n",
      "0.030500764512087643\n",
      "0.030364768093476647\n",
      "0.030298302826784793\n",
      "0.03029793091189652\n",
      "0.03036058045630241\n",
      "0.03048350681889415\n",
      "0.030664258672748926\n",
      "0.030900648149616173\n",
      "0.031190724523068626\n",
      "0.03153275096645294\n",
      "0.03192518398848384\n",
      "0.03236665520564666\n",
      "0.03285595515824511\n",
      "0.03339201891737576\n",
      "0.03397391326452089\n",
      "0.03460082525474879\n",
      "0.03527205199957852\n",
      "0.03598699152699028\n",
      "0.036745134594464664\n",
      "0.03754605734675307\n",
      "0.03838941472369747\n",
      "0.03927493453518751\n",
      "0.04020241213051234\n",
      "0.04117170559817597\n",
      "0.0421827314399097\n",
      "0.043235460669256445\n",
      "0.04432991529091709\n",
      "0.04546616512210413\n",
      "0.04664432492157586\n",
      "0.047864551795905735\n",
      "0.04912704285593695\n",
      "0.050432033099371956\n",
      "0.05177979349806286\n",
      "0.053170629270903394\n",
      "0.0546048783252575\n",
      "0.0560829098516794\n",
      "0.05760512305827463\n",
      "0.05917194603247958\n",
      "0.06078383471929363\n",
      "0.0624412720061249\n",
      "0.06414476690540405\n",
      "0.06589485382701886\n",
      "0.06769209193341084\n",
      "0.06953706457088918\n",
      "0.0714303787713579\n",
      "0.07337266481921415\n",
      "0.0753645758786987\n",
      "0.0774067876774281\n",
      "0.079499998242264\n",
      "0.08164492768404334\n",
      "0.08384231802802584\n",
      "0.08609293308722919\n",
      "0.08839755837609044\n",
      "0.09075700106214368\n",
      "0.09317208995363437\n",
      "0.09564367552118982\n",
      "0.09817262995185803\n",
      "0.1007598472339964\n",
      "0.1034062432716462\n",
      "0.10611275602717248\n",
      "0.10888034569108225\n",
      "0.11170999487804446\n",
      "0.11460270884826122\n",
      "0.11755951575342001\n",
      "0.12058146690657308\n",
      "0.12366963707535981\n",
      "0.12682512479807095\n",
      "0.13004905272214065\n",
      "0.1333425679647\n",
      "0.13670684249491605\n",
      "0.14014307353787347\n",
      "0.14365248399984074\n",
      "0.14723632291479338\n",
      "0.1508958659121324\n",
      "0.15463241570557837\n",
      "0.15844730260326362\n",
      "0.16234188503910235\n",
      "0.16631755012554225\n",
      "0.17037571422785242\n",
      "0.1745178235601451\n",
      "0.1787453548033496\n",
      "0.1830598157454135\n",
      "0.18746274594402731\n",
      "0.19195571741220813\n",
      "0.1965403353271153\n",
      "0.20121823876249947\n",
      "0.20599110144521932\n",
      "0.21086063253630688\n",
      "0.2158285774370676\n",
      "0.22089671862077012\n",
      "0.2260668764904731\n",
      "0.23134091026361783\n",
      "0.23672071888399127\n",
      "0.24220824196175506\n",
      "0.24780546074222964\n",
      "0.2535143991041671\n",
      "0.25933712458830055\n",
      "0.2652757494569632\n",
      "0.27133243178562944\n",
      "0.2775093765872557\n",
      "0.28380883697034426\n",
      "0.2902331153316875\n",
      "0.2967845645847888\n",
      "0.3034655894250033\n",
      "0.31027864763247504\n",
      "0.3172262514140103\n",
      "0.3243109687850295\n",
      "0.33153542499284966\n",
      "0.3389023039825319\n",
      "0.3464143499066212\n",
      "0.3540743686801379\n",
      "0.3618852295822461\n",
      "0.36984986690605204\n",
      "0.37797128165808397\n",
      "0.38625254330901465\n",
      "0.39469679159728616\n",
      "0.40330723838735333\n",
      "0.4120871695842915\n",
      "0.42103994710664117\n",
      "0.4301690109193814\n",
      "0.4394778811290134\n",
      "0.4489701601428289\n",
      "0.45864953489447424\n",
      "0.4685197791380654\n",
      "0.47858475581309884\n",
      "0.488848419482616\n",
      "0.4993148188470423\n",
      "0.5099880993363137\n",
      "0.5208725057829366\n",
      "0.5319723851787893\n",
      "0.5432921895185105\n",
      "0.5548364787324876\n",
      "0.5666099237125618\n",
      "0.5786173094336576\n",
      "0.5908635381746844\n",
      "0.6033536328422291\n",
      "0.6160927404006172\n",
      "0.6290861354121127\n",
      "0.6423392236911765\n",
      "0.6558575460768168\n",
      "0.6696467823272529\n",
      "0.683712755141306\n",
      "0.6980614343109973\n",
      "0.712698941010181\n",
      "0.7276315522240391\n",
      "0.7428657053245975\n",
      "0.7584080027976592\n",
      "0.774265217126467\n",
      "0.790444295838099\n",
      "0.8069523667184069\n",
      "0.8237967432017828\n",
      "0.8409849299421988\n",
      "0.8585246285722851\n",
      "0.8764237436574026\n",
      "0.8946903888519999\n",
      "0.9133328932659321\n",
      "0.9323598080483368\n"
     ]
    }
   ],
   "source": [
    "for i in range(len(theta)):\n",
    "    print(reflection[i][15])"
   ]
  },
  {
   "cell_type": "code",
   "execution_count": 24,
   "metadata": {},
   "outputs": [
    {
     "data": {
      "image/png": "[encoded data removed]",
      "text/plain": [
       "<Figure size 432x288 with 1 Axes>"
      ]
     },
     "metadata": {
      "needs_background": "light"
     },
     "output_type": "display_data"
    }
   ],
   "source": [
    "import numpy as np\n",
    "import numpy.random\n",
    "import matplotlib.pyplot as plt\n",
    " \n",
    "# Create data\n",
    "x = np.random.randn(4096)\n",
    "y = np.random.randn(4096)\n",
    " \n",
    "# Create heatmap\n",
    "heatmap, xedges, yedges = np.histogram2d(x, y, bins=(64,64))\n",
    "extent = [xedges[0], xedges[-1], yedges[0], yedges[-1]]\n",
    " \n",
    "# Plot heatmap\n",
    "plt.clf()\n",
    "plt.title('Pythonspot.com heatmap example')\n",
    "plt.ylabel('y')\n",
    "plt.xlabel('x')\n",
    "plt.imshow(heatmap, extent=extent)\n",
    "plt.show()"
   ]
  },
  {
   "cell_type": "code",
   "execution_count": null,
   "metadata": {},
   "outputs": [],
   "source": []
  }
 ],
 "metadata": {
  "kernelspec": {
   "display_name": "Python 3",
   "language": "python",
   "name": "python3"
  },
  "language_info": {
   "codemirror_mode": {
    "name": "ipython",
    "version": 3
   },
   "file_extension": ".py",
   "mimetype": "text/x-python",
   "name": "python",
   "nbconvert_exporter": "python",
   "pygments_lexer": "ipython3",
   "version": "3.7.1"
  }
 },
 "nbformat": 4,
 "nbformat_minor": 2
}
