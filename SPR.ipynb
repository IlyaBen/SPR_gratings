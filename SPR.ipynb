{
 "cells": [
  {
   "cell_type": "code",
   "execution_count": 1,
   "metadata": {},
   "outputs": [],
   "source": [
    "from xmlrpc.client import _datetime_type\n",
    "\n",
    "import matplotlib.pyplot as plt\n",
    "import numpy as np\n",
    "import math\n",
    "import cmath"
   ]
  },
  {
   "cell_type": "markdown",
   "metadata": {},
   "source": [
    "__Propogation matrix function__"
   ]
  },
  {
   "cell_type": "code",
   "execution_count": 2,
   "metadata": {},
   "outputs": [],
   "source": [
    "## matrix which describes propagation of light within layer \n",
    "## k_x - wavenumber along x; d - thickness of layer; \n",
    "## epsilon - dielectric constant of the layer; k_0 - wavenumber in vaccum\n",
    "def t_propogation(k_0, k_x, d, epsilon):\n",
    "    k_z = (k_0**2*epsilon - k_x**2)**(1./2)\n",
    "    T = np.zeros((2,2), dtype=np.complex128)\n",
    "    T[0][0] = np.exp(1j*k_z*d)\n",
    "    T[1][1] = np.exp(-1j*k_z*d)\n",
    "    return T"
   ]
  },
  {
   "cell_type": "markdown",
   "metadata": {},
   "source": [
    "__Interface matrix function__"
   ]
  },
  {
   "cell_type": "code",
   "execution_count": 3,
   "metadata": {},
   "outputs": [],
   "source": [
    "## matrix which describes boundary conditions on the interface; \n",
    "## e_1 - dielectric constant of layer from which light incident, \n",
    "## e_2 - dielectric constant of the second layer\n",
    "def t_interface(polarization, e_1, e_2, k_x, k_0):\n",
    "    k_z_1 = (k_0 ** 2 * e_1 - k_x ** 2)**(1/2)\n",
    "    k_z_2 = (k_0 ** 2 * e_2 - k_x ** 2)**(1/2)\n",
    "    F_1 = np.ones((2,2), dtype=np.complex128)\n",
    "    F_2 = np.ones((2,2), dtype=np.complex128)\n",
    "    if polarization == 1: # s-polarization\n",
    "        F_1[1][0] = -k_z_1/k_0\n",
    "        F_1[1][1] = k_z_1/k_0\n",
    "        F_2[1][0] = -k_z_2 / k_0\n",
    "        F_2[1][1] = k_z_2 / k_0\n",
    "    else:                 # p-polarization\n",
    "        F_1[0][0] = k_z_1/(k_0 * e_1)\n",
    "        F_1[0][1] = k_z_1/(k_0 * e_1)\n",
    "        F_1[1][1] = -1\n",
    "        F_2[0][0] = k_z_2 / (k_0 * e_2)\n",
    "        F_2[0][1] = k_z_2 / (k_0 * e_2)\n",
    "        F_2[1][1] = -1\n",
    "    F = np.zeros((2,2), dtype=np.complex128)\n",
    "    inverse_F_2 = np.linalg.inv(F_2)\n",
    "    F = inverse_F_2 @ F_1\n",
    "    return F"
   ]
  },
  {
   "cell_type": "markdown",
   "metadata": {},
   "source": [
    "__Considered incident angles__"
   ]
  },
  {
   "cell_type": "code",
   "execution_count": 4,
   "metadata": {},
   "outputs": [],
   "source": [
    "theta = np.linspace(1, 89, 300) # incident angles"
   ]
  },
  {
   "cell_type": "markdown",
   "metadata": {},
   "source": [
    "__Considering wavelength range (integer number in nm) and frequency range (in eV)__"
   ]
  },
  {
   "cell_type": "code",
   "execution_count": 6,
   "metadata": {},
   "outputs": [],
   "source": [
    "Wavelength = open('Wavelength.txt', 'r') # list of considering wavelength in nm"
   ]
  },
  {
   "cell_type": "code",
   "execution_count": 7,
   "metadata": {},
   "outputs": [],
   "source": [
    "wavelength_range = []\n",
    "frequency_range = []\n",
    "for line in Wavelength:\n",
    "    a = int(line)\n",
    "    wavelength_range.append(a)\n",
    "    b = 1240/a\n",
    "    frequency_range.append(b)"
   ]
  },
  {
   "cell_type": "code",
   "execution_count": 8,
   "metadata": {},
   "outputs": [],
   "source": [
    "Wavelength.close()"
   ]
  },
  {
   "cell_type": "markdown",
   "metadata": {},
   "source": [
    "__Dielectric constant of the prism__"
   ]
  },
  {
   "cell_type": "code",
   "execution_count": 9,
   "metadata": {},
   "outputs": [],
   "source": [
    "e_prism = [4 + 0j, 9 + 0j, 16 + 0j]"
   ]
  },
  {
   "cell_type": "markdown",
   "metadata": {},
   "source": [
    "__Thickness of the gold (in nm)__"
   ]
  },
  {
   "cell_type": "code",
   "execution_count": 10,
   "metadata": {},
   "outputs": [],
   "source": [
    "gold_thickness = [30, 40, 50]"
   ]
  },
  {
   "cell_type": "markdown",
   "metadata": {},
   "source": [
    "__Dispersion of gold (using the same wavelength as in wavelength section)__"
   ]
  },
  {
   "cell_type": "code",
   "execution_count": 14,
   "metadata": {},
   "outputs": [],
   "source": [
    "# Tabulated dispersion\n",
    "# first column - wavelength (integer in nm)\n",
    "# second column - e1\n",
    "# third column - e2\n",
    "Dispersion_gold = open('Dispersion_gold.txt', 'r')\n",
    "gold_disp = []\n",
    "for line in Dispersion_gold:\n",
    "    wavelength, epsilon_1, epsilon_2 = line.split()\n",
    "    wavelength = int(wavelength)\n",
    "    epsilon_1 = float(epsilon_1)\n",
    "    epsilon_2 = float(epsilon_2)\n",
    "    epsilon = complex(epsilon_1, epsilon_2)\n",
    "    gold_disp.append(epsilon)\n",
    "Dispersion_gold.close()"
   ]
  },
  {
   "cell_type": "markdown",
   "metadata": {},
   "source": [
    "__Dispersion of MoS$_2$ (using the same wavelength as in wavelength section)__"
   ]
  },
  {
   "cell_type": "code",
   "execution_count": 16,
   "metadata": {},
   "outputs": [],
   "source": [
    "# Tabulated dispersion\n",
    "# first column - wavelength (integer in nm)\n",
    "# second column - e1\n",
    "# third column - e2\n",
    "Dispersion_MoS_2 = open('Dispersion_MoS2.txt', 'r')\n",
    "mos2_disp = []\n",
    "for line in Dispersion_MoS_2:\n",
    "    wavelength, epsilon_1, epsilon_2 = line.split()\n",
    "    wavelength = int(wavelength)\n",
    "    epsilon_1 = float(epsilon_1)\n",
    "    epsilon_2 = float(epsilon_2)\n",
    "    epsilon = complex(epsilon_1, epsilon_2)\n",
    "    mos2_disp.append(epsilon)\n",
    "Dispersion_MoS_2.close()"
   ]
  },
  {
   "cell_type": "markdown",
   "metadata": {},
   "source": [
    "__n_Prism = 2 and gold thickness = 30 nm__ "
   ]
  },
  {
   "cell_type": "code",
   "execution_count": 17,
   "metadata": {},
   "outputs": [],
   "source": [
    "#reflection = np.zeros((len(wavelength_range), len(theta))) \n",
    "reflection = np.zeros((len(theta), len(wavelength_range)))\n",
    "# list of reflection coefficient for 2 parameters 4: theta; 5: photon energy in eV"
   ]
  },
  {
   "cell_type": "markdown",
   "metadata": {},
   "source": [
    "__Calculation of reflection__"
   ]
  },
  {
   "cell_type": "code",
   "execution_count": 18,
   "metadata": {},
   "outputs": [],
   "source": [
    "e = e_prism[0] # refractive index of prism, in future we will make iteration\n",
    "t = gold_thickness[0] # thickness of gold in future we will make iterations\n",
    "\n",
    "pol = 0 # 0 - p-polarization; consider only this polarization because s-polarization cann't induce plasmon polariton\n",
    "    \n",
    "for i in range(len(wavelength_range)):\n",
    "        \n",
    "    wavelength = wavelength_range[i]\n",
    "    k_0 = 2*np.pi/wavelength\n",
    "        \n",
    "    for j in range(len(theta)):\n",
    "            \n",
    "        angle = theta[j]\n",
    "            \n",
    "        k_x = k_0*np.sin(np.pi*angle/180)*e**(1/2)\n",
    "            \n",
    "        e_gold = gold_disp[i]\n",
    "        e_mos2 = mos2_disp[i]\n",
    "            \n",
    "        T = np.array([[1, 0], [0, 1]]) # initialize transfer matrix\n",
    "        T = t_interface(pol, e, e_gold, k_x, k_0) @ T # prism-gold interface\n",
    "        T = t_propogation(k_0, k_x, t, e_gold) @ T # propagation in gold\n",
    "        T = t_interface(pol, e_gold, e_mos2, k_x, k_0) @ T # gold-mos2 interface\n",
    "        T = t_propogation(k_0, k_x, 0.73, e_mos2) @ T # propogation in mos2\n",
    "        T = t_interface(pol, e_mos2, 1, k_x, k_0) @ T # mos2-air interface\n",
    "            \n",
    "        R = abs(T[1][0]/T[1][1])**2\n",
    "            \n",
    "        reflection[j][i] += R"
   ]
  },
  {
   "cell_type": "markdown",
   "metadata": {},
   "source": [
    "__Plot results__"
   ]
  },
  {
   "cell_type": "code",
   "execution_count": 19,
   "metadata": {},
   "outputs": [
    {
     "data": {
      "image/png": "[encoded data removed]",
      "text/plain": [
       "<Figure size 432x288 with 2 Axes>"
      ]
     },
     "metadata": {
      "needs_background": "light"
     },
     "output_type": "display_data"
    }
   ],
   "source": [
    "%matplotlib inline\n",
    "import numpy as np\n",
    "import matplotlib.pyplot as plt\n",
    "from ipywidgets import interactive\n",
    "import seaborn as sb\n",
    "\n",
    "x = frequency_range\n",
    "y = theta\n",
    "\n",
    "x, y = np.meshgrid(x, y)\n",
    "\n",
    "z = reflection\n",
    "\n",
    "ax = sb.heatmap(z)\n",
    "# ax.invert_yaxis()"
   ]
  },
  {
   "cell_type": "code",
   "execution_count": 20,
   "metadata": {},
   "outputs": [
    {
     "name": "stdout",
     "output_type": "stream",
     "text": [
      "0.16479494510800122\n",
      "0.16478496802807435\n",
      "0.16477247874187323\n",
      "0.16475750975590941\n",
      "0.16474010031222916\n",
      "0.1647202964439004\n",
      "0.16469815104056404\n",
      "0.16467372392435406\n",
      "0.1646470819365602\n",
      "0.16461829903545094\n",
      "0.164587456405736\n",
      "0.16455464258021052\n",
      "0.16451995357418567\n",
      "0.16448349303338752\n",
      "0.16444537239607562\n",
      "0.16440571107022\n",
      "0.1643646366266632\n",
      "0.16432228500929372\n",
      "0.1642788007633572\n",
      "0.16423433728316272\n",
      "0.1641890570805453\n",
      "0.16414313207561604\n",
      "0.16409674391145745\n",
      "0.1640500842946115\n",
      "0.16400335536338623\n",
      "0.16395677008622253\n",
      "0.16391055269258348\n",
      "0.16386493913910083\n",
      "0.1638201776139853\n",
      "0.16377652908303858\n",
      "0.1637342678809521\n",
      "0.1636936823519866\n",
      "0.16365507554456865\n",
      "0.16361876596484543\n",
      "0.16358508839480568\n",
      "0.16355439478121694\n",
      "0.16352705520233735\n",
      "0.163503458920203\n",
      "0.16348401552717812\n",
      "0.16346915619654911\n",
      "0.16345933504810117\n",
      "0.16345503064100692\n",
      "0.16345674760790194\n",
      "0.16346501844580746\n",
      "0.16348040548161996\n",
      "0.1635035030322294\n",
      "0.16353493978206404\n",
      "0.16357538140399283\n",
      "0.1636255334531679\n",
      "0.1636861445676223\n",
      "0.1637580100143826\n",
      "0.16384197562562225\n",
      "0.16393894217614605\n",
      "0.1640498702614685\n",
      "0.16417578574510835\n",
      "0.16431778585486145\n",
      "0.16447704602098423\n",
      "0.1646548275649684\n",
      "0.16485248636639885\n",
      "0.1650714826579977\n",
      "0.16531339212623822\n",
      "0.16557991852794257\n",
      "0.1658729080735002\n",
      "0.16619436587650102\n",
      "0.16654647483001586\n",
      "0.16693161734439504\n",
      "0.1673524004741988\n",
      "0.1678116850777457\n",
      "0.16831261979845963\n",
      "0.1688586808415768\n",
      "0.16945371875475343\n",
      "0.170102013722761\n",
      "0.17080834127678796\n",
      "0.17157805082815475\n",
      "0.17241716010675237\n",
      "0.1733324694757616\n",
      "0.17433170129118059\n",
      "0.17542367110015689\n",
      "0.1766184997062657\n",
      "0.1779278782407402\n",
      "0.1793654027723202\n",
      "0.18094700129055205\n",
      "0.18269148509226846\n",
      "0.18462127027030437\n",
      "0.18676333575187776\n",
      "0.18915051656685908\n",
      "0.19182328242274832\n",
      "0.1948322360716759\n",
      "0.19824170933103558\n",
      "0.20213508782021322\n",
      "0.20662296342387856\n",
      "0.21185612623328892\n",
      "0.2180473078441043\n",
      "0.2255098751553309\n",
      "0.2347323921423157\n",
      "0.24653867699185644\n",
      "0.26248970664377186\n",
      "0.28618694753726226\n",
      "0.33058253935495835\n",
      "0.48118685510737075\n",
      "0.49326579649594154\n",
      "0.47319148991985244\n",
      "0.43890957453768364\n",
      "0.399051419522003\n",
      "0.35858449702617495\n",
      "0.32020255023182975\n",
      "0.2851687186061652\n",
      "0.253900472050569\n",
      "0.2263539341386333\n",
      "0.20225933492071432\n",
      "0.18125642093590558\n",
      "0.16296756891347197\n",
      "0.14703423069043292\n",
      "0.13313277272214102\n",
      "0.12097926647248544\n",
      "0.11032870307192573\n",
      "0.10097166635418446\n",
      "0.09273008801268383\n",
      "0.08545291335756969\n",
      "0.07901206810240603\n",
      "0.07329888181210759\n",
      "0.06822100256570067\n",
      "0.063699778843488\n",
      "0.059668059748693145\n",
      "0.05606835730194959\n",
      "0.05285131583058634\n",
      "0.049974438616092624\n",
      "0.04740102843855164\n",
      "0.04509930519750904\n",
      "0.04304166980840231\n",
      "0.041204088848412916\n",
      "0.03956557891656107\n",
      "0.03810777342911531\n",
      "0.036814557678126233\n",
      "0.03567176053240113\n",
      "0.03466689324689102\n",
      "0.03378892754899095\n",
      "0.03302810655807715\n",
      "0.03237578322591344\n",
      "0.03182428190847996\n",
      "0.03136677943364545\n",
      "0.030997202645925932\n",
      "0.030710139915247844\n",
      "0.030500764512087535\n",
      "0.03036476809347659\n",
      "0.030298302826784727\n",
      "0.030297930911896462\n",
      "0.030360580456302275\n",
      "0.03048350681889421\n",
      "0.030664258672748808\n",
      "0.03090064814961628\n",
      "0.031190724523068706\n",
      "0.03153275096645294\n",
      "0.0319251839884837\n",
      "0.03236665520564671\n",
      "0.03285595515824494\n",
      "0.033392018917375844\n",
      "0.033973913264520844\n",
      "0.03460082525474874\n",
      "0.035272051999578564\n",
      "0.035986991526990336\n",
      "0.036745134594464546\n",
      "0.03754605734675309\n",
      "0.038389414723697314\n",
      "0.039274934535187565\n",
      "0.040202412130512045\n",
      "0.04117170559817588\n",
      "0.04218273143990962\n",
      "0.04323546066925629\n",
      "0.04432991529091705\n",
      "0.045466165122104156\n",
      "0.04664432492157593\n",
      "0.047864551795905666\n",
      "0.04912704285593699\n",
      "0.05043203309937192\n",
      "0.05177979349806288\n",
      "0.05317062927090328\n",
      "0.05460487832525743\n",
      "0.056082909851679345\n",
      "0.05760512305827483\n",
      "0.05917194603247955\n",
      "0.06078383471929362\n",
      "0.062441272006124704\n",
      "0.06414476690540388\n",
      "0.06589485382701886\n",
      "0.06769209193341084\n",
      "0.06953706457088897\n",
      "0.07143037877135783\n",
      "0.07337266481921433\n",
      "0.07536457587869855\n",
      "0.0774067876774277\n",
      "0.07949999824226373\n",
      "0.08164492768404312\n",
      "0.0838423180280255\n",
      "0.0860929330872291\n",
      "0.08839755837609037\n",
      "0.09075700106214359\n",
      "0.09317208995363437\n",
      "0.09564367552118982\n",
      "0.098172629951858\n",
      "0.1007598472339965\n",
      "0.10340624327164602\n",
      "0.10611275602717248\n",
      "0.10888034569108232\n",
      "0.1117099948780445\n",
      "0.11460270884826111\n",
      "0.11755951575341986\n",
      "0.12058146690657308\n",
      "0.12366963707535962\n",
      "0.1268251247980711\n",
      "0.13004905272214057\n",
      "0.1333425679646999\n",
      "0.13670684249491594\n",
      "0.1401430735378733\n",
      "0.14365248399984032\n",
      "0.14723632291479324\n",
      "0.15089586591213247\n",
      "0.15463241570557848\n",
      "0.15844730260326356\n",
      "0.16234188503910219\n",
      "0.16631755012554247\n",
      "0.17037571422785247\n",
      "0.17451782356014545\n",
      "0.1787453548033496\n",
      "0.1830598157454132\n",
      "0.1874627459440273\n",
      "0.1919557174122082\n",
      "0.19654033532711537\n",
      "0.20121823876249945\n",
      "0.20599110144521895\n",
      "0.2108606325363068\n",
      "0.2158285774370675\n",
      "0.22089671862077018\n",
      "0.22606687649047316\n",
      "0.23134091026361778\n",
      "0.2367207188839912\n",
      "0.24220824196175478\n",
      "0.24780546074222976\n",
      "0.25351439910416756\n",
      "0.25933712458830044\n",
      "0.2652757494569631\n",
      "0.27133243178562944\n",
      "0.2775093765872555\n",
      "0.28380883697034415\n",
      "0.2902331153316877\n",
      "0.2967845645847889\n",
      "0.3034655894250033\n",
      "0.31027864763247526\n",
      "0.3172262514140105\n",
      "0.3243109687850298\n",
      "0.33153542499285005\n",
      "0.3389023039825322\n",
      "0.34641434990662096\n",
      "0.35407436868013725\n",
      "0.3618852295822461\n",
      "0.3698498669060524\n",
      "0.37797128165808414\n",
      "0.38625254330901493\n",
      "0.3946967915972867\n",
      "0.40330723838735294\n",
      "0.41208716958429076\n",
      "0.421039947106641\n",
      "0.4301690109193817\n",
      "0.4394778811290136\n",
      "0.4489701601428289\n",
      "0.4586495348944744\n",
      "0.4685197791380656\n",
      "0.4785847558130985\n",
      "0.48884841948261554\n",
      "0.499314818847042\n",
      "0.5099880993363137\n",
      "0.5208725057829365\n",
      "0.5319723851787898\n",
      "0.5432921895185107\n",
      "0.5548364787324881\n",
      "0.5666099237125631\n",
      "0.578617309433658\n",
      "0.5908635381746847\n",
      "0.6033536328422296\n",
      "0.6160927404006181\n",
      "0.6290861354121124\n",
      "0.6423392236911761\n",
      "0.6558575460768165\n",
      "0.6696467823272535\n",
      "0.683712755141306\n",
      "0.6980614343109971\n",
      "0.712698941010181\n",
      "0.7276315522240385\n",
      "0.742865705324598\n",
      "0.7584080027976586\n",
      "0.774265217126467\n",
      "0.790444295838099\n",
      "0.8069523667184069\n",
      "0.8237967432017832\n",
      "0.8409849299421998\n",
      "0.858524628572286\n",
      "0.8764237436574026\n",
      "0.8946903888520013\n",
      "0.9133328932659328\n",
      "0.9323598080483357\n"
     ]
    }
   ],
   "source": [
    "for i in range(len(theta)):\n",
    "    print(reflection[i][15])"
   ]
  },
  {
   "cell_type": "code",
   "execution_count": 21,
   "metadata": {},
   "outputs": [
    {
     "data": {
      "image/png": "[encoded data removed]",
      "text/plain": [
       "<Figure size 432x288 with 1 Axes>"
      ]
     },
     "metadata": {
      "needs_background": "light"
     },
     "output_type": "display_data"
    }
   ],
   "source": [
    "import numpy as np\n",
    "import numpy.random\n",
    "import matplotlib.pyplot as plt\n",
    " \n",
    "# Create data\n",
    "x = np.random.randn(4096)\n",
    "y = np.random.randn(4096)\n",
    " \n",
    "# Create heatmap\n",
    "heatmap, xedges, yedges = np.histogram2d(x, y, bins=(64,64))\n",
    "extent = [xedges[0], xedges[-1], yedges[0], yedges[-1]]\n",
    " \n",
    "# Plot heatmap\n",
    "plt.clf()\n",
    "plt.title('Pythonspot.com heatmap example')\n",
    "plt.ylabel('y')\n",
    "plt.xlabel('x')\n",
    "plt.imshow(heatmap, extent=extent)\n",
    "plt.show()"
   ]
  },
  {
   "cell_type": "code",
   "execution_count": null,
   "metadata": {},
   "outputs": [],
   "source": []
  }
 ],
 "metadata": {
  "kernelspec": {
   "display_name": "Python 3",
   "language": "python",
   "name": "python3"
  },
  "language_info": {
   "codemirror_mode": {
    "name": "ipython",
    "version": 3
   },
   "file_extension": ".py",
   "mimetype": "text/x-python",
   "name": "python",
   "nbconvert_exporter": "python",
   "pygments_lexer": "ipython3",
   "version": "3.7.2"
  }
 },
 "nbformat": 4,
 "nbformat_minor": 2
}
