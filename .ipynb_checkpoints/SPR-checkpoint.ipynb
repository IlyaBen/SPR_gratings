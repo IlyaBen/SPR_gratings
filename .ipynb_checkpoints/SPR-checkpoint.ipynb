{
 "cells": [
  {
   "cell_type": "code",
   "execution_count": 1,
   "metadata": {},
   "outputs": [],
   "source": [
    "from xmlrpc.client import _datetime_type\n",
    "\n",
    "import matplotlib.pyplot as plt\n",
    "import numpy as np\n",
    "import math\n",
    "import cmath"
   ]
  },
  {
   "cell_type": "markdown",
   "metadata": {},
   "source": [
    "__Propogation matrix function__"
   ]
  },
  {
   "cell_type": "code",
   "execution_count": 2,
   "metadata": {},
   "outputs": [],
   "source": [
    "## matrix which describes propagation of light within layer \n",
    "## k_x - wavenumber along x; d - thickness of layer; \n",
    "## epsilon - dielectric constant of the layer; k_0 - wavenumber in vaccum\n",
    "def t_propogation(k_0, k_x, d, epsilon):\n",
    "    k_z = (k_0**2*epsilon - k_x**2)**(1./2)\n",
    "    T = np.zeros((2,2), dtype=np.complex128)\n",
    "    T[0][0] = np.exp(1j*k_z*d)\n",
    "    T[1][1] = np.exp(-1j*k_z*d)\n",
    "    return T"
   ]
  },
  {
   "cell_type": "markdown",
   "metadata": {},
   "source": [
    "__Interface matrix function__"
   ]
  },
  {
   "cell_type": "code",
   "execution_count": 3,
   "metadata": {},
   "outputs": [],
   "source": [
    "## matrix which describes boundary conditions on the interface; \n",
    "## e_1 - dielectric constant of layer from which light incident, \n",
    "## e_2 - dielectric constant of the second layer\n",
    "def t_interface(polarization, e_1, e_2, k_x, k_0):\n",
    "    k_z_1 = (k_0 ** 2 * e_1 - k_x ** 2)**(1/2)\n",
    "    k_z_2 = (k_0 ** 2 * e_2 - k_x ** 2)**(1/2)\n",
    "    F_1 = np.ones((2,2), dtype=np.complex128)\n",
    "    F_2 = np.ones((2,2), dtype=np.complex128)\n",
    "    if polarization == 1: # s-polarization\n",
    "        F_1[1][0] = -k_z_1/k_0\n",
    "        F_1[1][1] = k_z_1/k_0\n",
    "        F_2[1][0] = -k_z_2 / k_0\n",
    "        F_2[1][1] = k_z_2 / k_0\n",
    "    else:                 # p-polarization\n",
    "        F_1[0][0] = k_z_1/(k_0 * e_1)\n",
    "        F_1[0][1] = k_z_1/(k_0 * e_1)\n",
    "        F_1[1][1] = -1\n",
    "        F_2[0][0] = k_z_2 / (k_0 * e_2)\n",
    "        F_2[0][1] = k_z_2 / (k_0 * e_2)\n",
    "        F_2[1][1] = -1\n",
    "    F = np.zeros((2,2), dtype=np.complex128)\n",
    "    inverse_F_2 = np.linalg.inv(F_2)\n",
    "    F = inverse_F_2 @ F_1\n",
    "    return F"
   ]
  },
  {
   "cell_type": "markdown",
   "metadata": {},
   "source": [
    "__Considered incident angles__"
   ]
  },
  {
   "cell_type": "code",
   "execution_count": 4,
   "metadata": {},
   "outputs": [],
   "source": [
    "theta = np.linspace(1, 89, 300) # incident angles"
   ]
  },
  {
   "cell_type": "markdown",
   "metadata": {},
   "source": [
    "__Considering wavelength range (integer number in nm) and frequency range (in eV)__"
   ]
  },
  {
   "cell_type": "code",
   "execution_count": 5,
   "metadata": {},
   "outputs": [
    {
     "ename": "FileNotFoundError",
     "evalue": "[Errno 2] No such file or directory: 'Wavelength.txt'",
     "output_type": "error",
     "traceback": [
      "\u001b[0;31m---------------------------------------------------------------------------\u001b[0m",
      "\u001b[0;31mFileNotFoundError\u001b[0m                         Traceback (most recent call last)",
      "\u001b[0;32m<ipython-input-5-1d900fd752dc>\u001b[0m in \u001b[0;36m<module>\u001b[0;34m()\u001b[0m\n\u001b[0;32m----> 1\u001b[0;31m \u001b[0mWavelength\u001b[0m \u001b[0;34m=\u001b[0m \u001b[0mopen\u001b[0m\u001b[0;34m(\u001b[0m\u001b[0;34m'Wavelength.txt'\u001b[0m\u001b[0;34m,\u001b[0m \u001b[0;34m'r'\u001b[0m\u001b[0;34m)\u001b[0m \u001b[0;31m# list of considering wavelength in nm\u001b[0m\u001b[0;34m\u001b[0m\u001b[0;34m\u001b[0m\u001b[0m\n\u001b[0m",
      "\u001b[0;31mFileNotFoundError\u001b[0m: [Errno 2] No such file or directory: 'Wavelength.txt'"
     ]
    }
   ],
   "source": [
    "Wavelength = open('Wavelength.txt', 'r') # list of considering wavelength in nm"
   ]
  },
  {
   "cell_type": "code",
   "execution_count": null,
   "metadata": {},
   "outputs": [],
   "source": [
    "wavelength_range = []\n",
    "frequency_range = []\n",
    "for line in Wavelength:\n",
    "    a = int(line)\n",
    "    wavelength_range.append(a)\n",
    "    b = 1240/a\n",
    "    frequency_range.append(b)"
   ]
  },
  {
   "cell_type": "code",
   "execution_count": null,
   "metadata": {},
   "outputs": [],
   "source": [
    "Wavelength.close()"
   ]
  },
  {
   "cell_type": "markdown",
   "metadata": {},
   "source": [
    "__Dielectric constant of the prism__"
   ]
  },
  {
   "cell_type": "code",
   "execution_count": null,
   "metadata": {},
   "outputs": [],
   "source": [
    "e_prism = [4 + 0j, 9 + 0j, 16 + 0j]"
   ]
  },
  {
   "cell_type": "markdown",
   "metadata": {},
   "source": [
    "__Thickness of the gold (in nm)__"
   ]
  },
  {
   "cell_type": "code",
   "execution_count": null,
   "metadata": {},
   "outputs": [],
   "source": [
    "gold_thickness = [30, 40, 50]"
   ]
  },
  {
   "cell_type": "markdown",
   "metadata": {},
   "source": [
    "__Dispersion of gold (using the same wavelength as in wavelength section)__"
   ]
  },
  {
   "cell_type": "code",
   "execution_count": null,
   "metadata": {},
   "outputs": [],
   "source": [
    "# Tabulated dispersion\n",
    "# first column - wavelength (integer in nm)\n",
    "# second column - e1\n",
    "# third column - e2\n",
    "Dispersion_gold = open('Dispersion gold.txt', 'r')\n",
    "gold_disp = []\n",
    "for line in Dispersion_gold:\n",
    "    wavelength, epsilon_1, epsilon_2 = line.split()\n",
    "    wavelength = int(wavelength)\n",
    "    epsilon_1 = float(epsilon_1)\n",
    "    epsilon_2 = float(epsilon_2)\n",
    "    epsilon = complex(epsilon_1, epsilon_2)\n",
    "    gold_disp.append(epsilon)\n",
    "Dispersion_gold.close()"
   ]
  },
  {
   "cell_type": "markdown",
   "metadata": {},
   "source": [
    "__Dispersion of MoS$_2$ (using the same wavelength as in wavelength section)__"
   ]
  },
  {
   "cell_type": "code",
   "execution_count": null,
   "metadata": {},
   "outputs": [],
   "source": [
    "# Tabulated dispersion\n",
    "# first column - wavelength (integer in nm)\n",
    "# second column - e1\n",
    "# third column - e2\n",
    "Dispersion_MoS_2 = open('Dispersion MoS2.txt', 'r')\n",
    "mos2_disp = []\n",
    "for line in Dispersion_MoS_2:\n",
    "    wavelength, epsilon_1, epsilon_2 = line.split()\n",
    "    wavelength = int(wavelength)\n",
    "    epsilon_1 = float(epsilon_1)\n",
    "    epsilon_2 = float(epsilon_2)\n",
    "    epsilon = complex(epsilon_1, epsilon_2)\n",
    "    mos2_disp.append(epsilon)\n",
    "Dispersion_MoS_2.close()"
   ]
  },
  {
   "cell_type": "markdown",
   "metadata": {},
   "source": [
    "__n_Prism = 2 and gold thickness = 30 nm__ "
   ]
  },
  {
   "cell_type": "code",
   "execution_count": null,
   "metadata": {},
   "outputs": [],
   "source": [
    "#reflection = np.zeros((len(wavelength_range), len(theta))) \n",
    "reflection = np.zeros((len(theta), len(wavelength_range)))\n",
    "# list of reflection coefficient for 2 parameters 4: theta; 5: photon energy in eV"
   ]
  },
  {
   "cell_type": "markdown",
   "metadata": {},
   "source": [
    "__Calculation of reflection__"
   ]
  },
  {
   "cell_type": "code",
   "execution_count": null,
   "metadata": {},
   "outputs": [],
   "source": [
    "e = e_prism[0] # refractive index of prism, in future we will make iteration\n",
    "t = gold_thickness[0] # thickness of gold in future we will make iterations\n",
    "\n",
    "pol = 0 # 0 - p-polarization; consider only this polarization because s-polarization cann't induce plasmon polariton\n",
    "    \n",
    "for i in range(len(wavelength_range)):\n",
    "        \n",
    "    wavelength = wavelength_range[i]\n",
    "    k_0 = 2*np.pi/wavelength\n",
    "        \n",
    "    for j in range(len(theta)):\n",
    "            \n",
    "        angle = theta[j]\n",
    "            \n",
    "        k_x = k_0*np.sin(np.pi*angle/180)*e**(1/2)\n",
    "            \n",
    "        e_gold = gold_disp[i]\n",
    "        e_mos2 = mos2_disp[i]\n",
    "            \n",
    "        T = np.array([[1, 0], [0, 1]]) # initialize transfer matrix\n",
    "        T = t_interface(pol, e, e_gold, k_x, k_0) @ T # prism-gold interface\n",
    "        T = t_propogation(k_0, k_x, t, e_gold) @ T # propagation in gold\n",
    "        T = t_interface(pol, e_gold, e_mos2, k_x, k_0) @ T # gold-mos2 interface\n",
    "        T = t_propogation(k_0, k_x, 0.73, e_mos2) @ T # propogation in mos2\n",
    "        T = t_interface(pol, e_mos2, 1, k_x, k_0) @ T # mos2-air interface\n",
    "            \n",
    "        R = abs(T[1][0]/T[1][1])**2\n",
    "            \n",
    "        reflection[j][i] += R"
   ]
  },
  {
   "cell_type": "markdown",
   "metadata": {},
   "source": [
    "__Plot results__"
   ]
  },
  {
   "cell_type": "code",
   "execution_count": null,
   "metadata": {},
   "outputs": [],
   "source": [
    "%matplotlib inline\n",
    "import numpy as np\n",
    "import matplotlib.pyplot as plt\n",
    "from ipywidgets import interactive\n",
    "import seaborn as sb\n",
    "\n",
    "x = frequency_range\n",
    "y = theta\n",
    "\n",
    "x, y = np.meshgrid(x, y)\n",
    "\n",
    "z = reflection\n",
    "\n",
    "ax = sb.heatmap(z)\n",
    "# ax.invert_yaxis()"
   ]
  },
  {
   "cell_type": "code",
   "execution_count": null,
   "metadata": {},
   "outputs": [],
   "source": [
    "for i in range(len(theta)):\n",
    "    print(reflection[i][15])"
   ]
  },
  {
   "cell_type": "code",
   "execution_count": null,
   "metadata": {},
   "outputs": [],
   "source": [
    "import numpy as np\n",
    "import numpy.random\n",
    "import matplotlib.pyplot as plt\n",
    " \n",
    "# Create data\n",
    "x = np.random.randn(4096)\n",
    "y = np.random.randn(4096)\n",
    " \n",
    "# Create heatmap\n",
    "heatmap, xedges, yedges = np.histogram2d(x, y, bins=(64,64))\n",
    "extent = [xedges[0], xedges[-1], yedges[0], yedges[-1]]\n",
    " \n",
    "# Plot heatmap\n",
    "plt.clf()\n",
    "plt.title('Pythonspot.com heatmap example')\n",
    "plt.ylabel('y')\n",
    "plt.xlabel('x')\n",
    "plt.imshow(heatmap, extent=extent)\n",
    "plt.show()"
   ]
  },
  {
   "cell_type": "code",
   "execution_count": null,
   "metadata": {},
   "outputs": [],
   "source": []
  }
 ],
 "metadata": {
  "kernelspec": {
   "display_name": "Python 3",
   "language": "python",
   "name": "python3"
  },
  "language_info": {
   "codemirror_mode": {
    "name": "ipython",
    "version": 3
   },
   "file_extension": ".py",
   "mimetype": "text/x-python",
   "name": "python",
   "nbconvert_exporter": "python",
   "pygments_lexer": "ipython3",
   "version": "3.7.2"
  }
 },
 "nbformat": 4,
 "nbformat_minor": 2
}
