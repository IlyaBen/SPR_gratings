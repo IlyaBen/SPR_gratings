{
 "cells": [
  {
   "cell_type": "markdown",
   "metadata": {},
   "source": [
    "__The metal-vacuum boundary is assumed to have a sinusoidal profile:__"
   ]
  },
  {
   "cell_type": "markdown",
   "metadata": {},
   "source": [
    "$$ s(x) = h \\sin(k_g x) $$"
   ]
  },
  {
   "cell_type": "markdown",
   "metadata": {},
   "source": [
    "__The input field could be written in the form:__"
   ]
  },
  {
   "cell_type": "markdown",
   "metadata": {},
   "source": [
    "$$ E_i = \\begin{bmatrix}\n",
    "           k_1 \\\\\n",
    "           0 \\\\\n",
    "           -k_x \\\\\n",
    "         \\end{bmatrix} e^{i(k_x x + k_1 z)}\n",
    "\\quad H_i = \\begin{bmatrix}\n",
    "           0 \\\\\n",
    "           1 \\\\\n",
    "           0 \\\\\n",
    "         \\end{bmatrix} e^{i(k_x x + k_1 z)}$$"
   ]
  },
  {
   "cell_type": "markdown",
   "metadata": {},
   "source": [
    " __where__ $$ k_{x}^2 + k_{1}^2 = k_0^2 $$"
   ]
  },
  {
   "cell_type": "markdown",
   "metadata": {},
   "source": [
    "__Reflected field:__"
   ]
  },
  {
   "cell_type": "markdown",
   "metadata": {},
   "source": [
    "$$ E_r = \\sum_k \\begin{bmatrix}\n",
    "           -p \\\\\n",
    "           0 \\\\\n",
    "           -k \\\\\n",
    "         \\end{bmatrix} r(k) e^{i(k x - p z)}\n",
    "\\quad \n",
    "H_r = \\sum_k \\begin{bmatrix}\n",
    "           0 \\\\\n",
    "           1 \\\\\n",
    "           0 \\\\\n",
    "         \\end{bmatrix} r(k) e^{i(k x - p z)}$$"
   ]
  },
  {
   "cell_type": "markdown",
   "metadata": {},
   "source": [
    "__Transmitted field:__"
   ]
  },
  {
   "cell_type": "markdown",
   "metadata": {},
   "source": [
    "$$ E_t = \\frac{1}{\\varepsilon} \\sum_k \\begin{bmatrix}\n",
    "           q \\\\\n",
    "           0 \\\\\n",
    "           -k \\\\\n",
    "         \\end{bmatrix} t(k) e^{i(k x + q z)}\n",
    "\\quad \n",
    "H_r = \\sum_k \\begin{bmatrix}\n",
    "           0 \\\\\n",
    "           1 \\\\\n",
    "           0 \\\\\n",
    "         \\end{bmatrix} t(k) e^{i(k x + q z)}$$"
   ]
  },
  {
   "cell_type": "markdown",
   "metadata": {},
   "source": [
    "__where__ $$ k^2 + p^2 = k_0^2 \\quad k^2 + q^2 = \\varepsilon k_0^2 $$"
   ]
  },
  {
   "cell_type": "markdown",
   "metadata": {},
   "source": [
    "__Boundary conditions could be written as__ $$ N \\times \\delta E = 0  \\quad N \\times \\delta H = 0 $$"
   ]
  },
  {
   "cell_type": "markdown",
   "metadata": {},
   "source": [
    "$$ N = \\nabla (h \\sin(k_g x) - z) =  \\begin{bmatrix}\n",
    "           h k_g \\cos(k_g x) \\\\\n",
    "           0 \\\\\n",
    "           -1 \\\\\n",
    "         \\end{bmatrix} $$"
   ]
  },
  {
   "cell_type": "markdown",
   "metadata": {},
   "source": [
    "__Boundary conditions for E yields__"
   ]
  },
  {
   "cell_type": "markdown",
   "metadata": {},
   "source": [
    "$$ (h k_g k_x \\cos(k_g x) - k_1) e^{i(k_x x + k_1 s(x))} = \\frac{1}{\\epsilon} \\sum_k t(k) (h k_g k \\cos(k_g x) - q) e^{i(kx + qs(x))} - \\sum_k r(k) (p + h k_g k \\cos(k_g x)) e^{i(k x - p s(x))}$$"
   ]
  },
  {
   "cell_type": "markdown",
   "metadata": {},
   "source": [
    "__Recall Bessel-Fourier (Hankel transformation) expansion:__"
   ]
  },
  {
   "cell_type": "markdown",
   "metadata": {},
   "source": [
    "$$ e^{ia \\sin(u)} = \\sum_{n = -\\infty}^{n = +\\infty} J_n(a) e^{i n u} $$"
   ]
  },
  {
   "cell_type": "markdown",
   "metadata": {},
   "source": [
    "__it yields__"
   ]
  },
  {
   "cell_type": "markdown",
   "metadata": {},
   "source": [
    "$$ (h k_g k_x \\cos(k_g x) - k_1) e^{i k_x x} \\sum_{m = -\\infty}^{\\infty} J_m(k_1 h) e^{i m k_g x} = $$ $$ = \\frac{1}{\\varepsilon} \\sum_k \\sum_{n = -\\infty}^{n = \\infty} t(k) (h k_g k_x \\cos(k_g x) - q) J_n(qh) e^{i(k + n k_g) x} - \\sum_k \\sum_{n = -\\infty}^{\\infty} r(k) (p + h k_g k \\cos(k_g x)) $$"
   ]
  },
  {
   "cell_type": "markdown",
   "metadata": {},
   "source": [
    "__The last equation gives nonzero for a discrete set of k values that satisfy__"
   ]
  },
  {
   "cell_type": "markdown",
   "metadata": {},
   "source": [
    "$$ k = k_l = k_x + l k_g $$"
   ]
  },
  {
   "cell_type": "markdown",
   "metadata": {},
   "source": [
    "__Thus the last equation could be written in the form__"
   ]
  },
  {
   "cell_type": "markdown",
   "metadata": {},
   "source": [
    "$$ A = B - C $$"
   ]
  },
  {
   "cell_type": "markdown",
   "metadata": {},
   "source": [
    "__where__"
   ]
  },
  {
   "cell_type": "markdown",
   "metadata": {},
   "source": [
    "$$ A = (h k_g k_x \\cos(k_g x) - k_1) \\sum_m J_m(k_1 h) e^{i m k_g x} $$"
   ]
  },
  {
   "cell_type": "markdown",
   "metadata": {},
   "source": [
    "$$ B = \\frac{1}{\\varepsilon} \\sum_{l, n} t(k_l)[h k_g k_l \\cos(k_g x) - q_l] J_n(q_l h) e^{i(l+n)k_g x} $$"
   ]
  },
  {
   "cell_type": "markdown",
   "metadata": {},
   "source": [
    "$$ C = \\sum_{l,n} r(k_l) [p_l + h k_g k_l \\cos(k_g x)] (-1)^n J_n(p_l h) e^{i (l+n) k_g x} $$"
   ]
  },
  {
   "cell_type": "markdown",
   "metadata": {},
   "source": [
    "__by using identity__ $$ \\cos(k_g x) = \\frac{e^{i k_g x} + e^{-i k_g x}}{2} $$"
   ]
  },
  {
   "cell_type": "markdown",
   "metadata": {},
   "source": [
    "__and recursive relation for Bessel functions:__"
   ]
  },
  {
   "cell_type": "markdown",
   "metadata": {},
   "source": [
    "$$ \\frac{J_{m+1} + J_{m-1}}{2} = \\frac{m}{u} J_m(u)  $$"
   ]
  },
  {
   "cell_type": "markdown",
   "metadata": {},
   "source": [
    "__we get__"
   ]
  },
  {
   "cell_type": "markdown",
   "metadata": {},
   "source": [
    "$$ A = \\sum_m \\frac{m k_g k_x - k_1^2}{k_1} J_m(k_1 h) e^{i m k_g x} $$"
   ]
  },
  {
   "cell_type": "markdown",
   "metadata": {},
   "source": [
    "$$ B = \\frac{1}{\\varepsilon} \\sum_{l, n} t(k_l) \\frac{n k_g k_l - q_l^2}{q_l} J_n(q_l h) e^{i m k_g x} $$"
   ]
  },
  {
   "cell_type": "markdown",
   "metadata": {},
   "source": [
    "$$ C = -\\sum_{l, n} r(k_l) $$"
   ]
  },
  {
   "cell_type": "code",
   "execution_count": 1,
   "metadata": {},
   "outputs": [],
   "source": [
    "from xmlrpc.client import _datetime_type\n",
    "import matplotlib.pyplot as plt\n",
    "import numpy as np\n",
    "import cmath\n",
    "from ipywidgets import interactive\n",
    "import seaborn as sb\n",
    "from scipy.special import jv\n",
    "%matplotlib inline"
   ]
  },
  {
   "cell_type": "code",
   "execution_count": 2,
   "metadata": {},
   "outputs": [],
   "source": [
    "# constants in mkm\n",
    "h = 0.053\n",
    "\n",
    "Period = 1.52\n",
    "\n",
    "k_g = 2*np.pi/Period\n",
    "\n",
    "angle = 0\n",
    "\n",
    "wavelength = 0.63\n",
    "\n",
    "k_0 = 2*np.pi/wavelength\n",
    "\n",
    "k_1 = np.cos(angle * np.pi/180)*k_0\n",
    "\n",
    "k_x = np.sin(angle * np.pi/180)*k_0\n",
    "\n",
    "epsilon = -8.28 + 1.516j\n",
    "\n",
    "N = 6"
   ]
  },
  {
   "cell_type": "code",
   "execution_count": 3,
   "metadata": {},
   "outputs": [],
   "source": [
    "def right_hand_side_E(N = N, k_1 = k_1, k_g = k_g, h = h):\n",
    "    b = np.zeros(2*N+1)\n",
    "    \n",
    "    for m in range(-N, N + 1):\n",
    "        b[m + N] = (m * k_1 * k_g - k_1**2) / k_1 * jv(m, k_1*h)\n",
    "    \n",
    "    return b"
   ]
  },
  {
   "cell_type": "code",
   "execution_count": 4,
   "metadata": {},
   "outputs": [],
   "source": [
    "def right_hand_side_H(N = N, k_1 = k_1, h = h):\n",
    "    b = np.zeros(2*N+1)\n",
    "    \n",
    "    for m in range(-N, N + 1):\n",
    "        b[m + N] = jv(m, k_1*h)\n",
    "    \n",
    "    return b"
   ]
  },
  {
   "cell_type": "code",
   "execution_count": 5,
   "metadata": {},
   "outputs": [],
   "source": [
    "def A_E_t(N = N, k_0 = k_0, k_g = k_g, k_x = k_x, e = epsilon, h = h):\n",
    "    A = np.zeros((2*N + 1, 2*N + 1), dtype = np.complex128)\n",
    "    \n",
    "    for L in range(-N, N + 1):\n",
    "        \n",
    "        k_L = k_x + L*k_g\n",
    "                \n",
    "        q_L = (np.complex(e * k_0 ** 2 - k_L ** 2))  ** (1/2)\n",
    "        \n",
    "        for m in range(-N, N + 1):\n",
    "            \n",
    "            A[m, L] = ((m - L) * k_g * k_L - q_L**2)  / (e * q_L) * jv(m-L,q_L*h)\n",
    "    \n",
    "    return A"
   ]
  },
  {
   "cell_type": "code",
   "execution_count": 6,
   "metadata": {},
   "outputs": [],
   "source": [
    "def A_E_r(N = N, k_0 = k_0, k_g = k_g, k_x = k_x, h = h):\n",
    "    A = np.zeros((2*N + 1, 2*N + 1), dtype = np.complex128)\n",
    "    \n",
    "    for L in range(-N, N + 1):\n",
    "        \n",
    "        k_L = k_x + L * k_g\n",
    "                \n",
    "        p_L = (np.complex(k_0 ** 2 - k_L ** 2))  ** (1/2)\n",
    "        \n",
    "        for m in range(-N, N + 1):\n",
    "            \n",
    "            A[m, L] = ((m - L) * k_g * k_L - p_L**2)  / p_L * jv(m-L,p_L*h) * (-1)**(m-L)\n",
    "    \n",
    "    return A"
   ]
  },
  {
   "cell_type": "code",
   "execution_count": 7,
   "metadata": {},
   "outputs": [],
   "source": [
    "def A_H_t(N = N, k_0 = k_0, k_x = k_x, k_g = k_g, h = h, e = epsilon):\n",
    "    A = np.zeros((2*N + 1, 2*N + 1), dtype = np.complex128)\n",
    "    \n",
    "    for L in range(-N, N + 1):\n",
    "        \n",
    "        k_L = k_x + L * k_g\n",
    "        \n",
    "        q_L = (np.complex(e * k_0 ** 2 - k_L ** 2))  ** (1/2)\n",
    "        \n",
    "        for m in range(-N, N + 1):\n",
    "            \n",
    "            A[m, L] = jv(m-L,q_L*h)\n",
    "    \n",
    "    return A"
   ]
  },
  {
   "cell_type": "code",
   "execution_count": 8,
   "metadata": {},
   "outputs": [],
   "source": [
    "def A_H_r(N = N, k_0 = k_0, k_x = k_x, k_g = k_g, h = h):\n",
    "    A = np.zeros((2*N + 1, 2*N + 1), dtype = np.complex128)\n",
    "    \n",
    "    for L in range(-N, N + 1):\n",
    "        \n",
    "        k_L = k_x + L * k_g\n",
    "        \n",
    "        p_L = (np.complex(k_0 ** 2 - k_L ** 2))  ** (1/2)\n",
    "        \n",
    "        for m in range(-N, N + 1):\n",
    "            \n",
    "            A[m, L] = -jv(m-L,p_L*h)*(-1)**(m-L)\n",
    "    \n",
    "    return A"
   ]
  },
  {
   "cell_type": "code",
   "execution_count": 9,
   "metadata": {},
   "outputs": [],
   "source": [
    "def find_r_t(N = N, k_0 = k_0, k_x = k_x, k_g = k_g, h = h, e = epsilon, k_1 = k_1):\n",
    "    b_E = right_hand_side_E(N, k_1, k_g, h)\n",
    "    b_H = right_hand_side_H(N, k_1, h)\n",
    "    \n",
    "    b = np.append(b_E, b_H)\n",
    "    \n",
    "    A_11 = A_E_t(N, k_0, k_g, k_x, e, h)\n",
    "    A_12 = A_E_r(N, k_0, k_g, k_x, h)\n",
    "    A_21 = A_H_t(N, k_0, k_x, k_g, h, e)\n",
    "    A_22 = A_H_r(N, k_0, k_x, k_g, h)\n",
    "    \n",
    "    A_up = np.c_[A_11, A_12]\n",
    "    A_down = np.c_[A_21, A_22]\n",
    "    A = np.r_[A_up, A_down]\n",
    "    \n",
    "    t_r = np.linalg.solve(A,b)\n",
    "    \n",
    "    t = t_r[:2*N+1]\n",
    "    \n",
    "    r = t_r[2*N+1:]\n",
    "    \n",
    "    return r, t"
   ]
  },
  {
   "cell_type": "code",
   "execution_count": 41,
   "metadata": {},
   "outputs": [
    {
     "name": "stdout",
     "output_type": "stream",
     "text": [
      "Wall time: 136 ms\n"
     ]
    },
    {
     "data": {
      "image/png": "[encoded data removed]",
      "text/plain": [
       "<Figure size 432x288 with 1 Axes>"
      ]
     },
     "metadata": {
      "needs_background": "light"
     },
     "output_type": "display_data"
    }
   ],
   "source": [
    "%%time\n",
    "\n",
    "N = 6\n",
    "\n",
    "pts = np.linspace(-N, N, 2*N + 1)\n",
    "#r = find_r_t()[0]\n",
    "#R = []\n",
    "#for i in range(0, 2*N + 1):\n",
    "#    R.append(abs(r[i])**2)\n",
    "Theta_list = np.linspace(70,85,40)\n",
    "R = []\n",
    "\n",
    "for angle in Theta_list:\n",
    "    k_01 = 2*np.pi/wavelength\n",
    "    k_11 = np.cos(angle * np.pi/180)*k_0\n",
    "    k_x1 = np.sin(angle * np.pi/180)*k_0\n",
    "    r = find_r_t(N, k_0 = k_01, k_1 = k_11, k_x = k_x1)[0][N]\n",
    "    \n",
    "    R.append(abs(r)**2)\n",
    "#T = [exact_solution(x) for x in pts]\n",
    "plt.plot(Theta_list, R, 'o')\n",
    "#plt.plot(pts, u,'o')"
   ]
  },
  {
   "cell_type": "code",
   "execution_count": 11,
   "metadata": {},
   "outputs": [
    {
     "data": {
      "text/plain": [
       "3.1533486706421456"
      ]
     },
     "execution_count": 11,
     "metadata": {},
     "output_type": "execute_result"
    }
   ],
   "source": [
    "np.sum(R)"
   ]
  },
  {
   "cell_type": "code",
   "execution_count": 12,
   "metadata": {},
   "outputs": [
    {
     "name": "stdout",
     "output_type": "stream",
     "text": [
      "Wall time: 107 ms\n"
     ]
    },
    {
     "data": {
      "image/png": "[encoded data removed]",
      "text/plain": [
       "<Figure size 432x288 with 1 Axes>"
      ]
     },
     "metadata": {
      "needs_background": "light"
     },
     "output_type": "display_data"
    }
   ],
   "source": [
    "%%time\n",
    "\n",
    "N = 37\n",
    "\n",
    "pts = np.linspace(-N, N, 2*N + 1)\n",
    "#r = find_r_t()[0]\n",
    "#R = []\n",
    "#for i in range(0, 2*N + 1):\n",
    "#    R.append(abs(r[i])**2)\n",
    "\n",
    "T = [abs(r)**2 for r in find_r_t(N)[1]]\n",
    "#T = [exact_solution(x) for x in pts]\n",
    "plt.plot(pts, T, 'o')\n",
    "#plt.plot(pts, u,'o')"
   ]
  },
  {
   "cell_type": "code",
   "execution_count": 13,
   "metadata": {},
   "outputs": [
    {
     "data": {
      "text/plain": [
       "(3.1533486706421456, 319.7076848905696)"
      ]
     },
     "execution_count": 13,
     "metadata": {},
     "output_type": "execute_result"
    }
   ],
   "source": [
    "np.sum(R), np.sum(T)"
   ]
  },
  {
   "cell_type": "code",
   "execution_count": null,
   "metadata": {},
   "outputs": [],
   "source": []
  }
 ],
 "metadata": {
  "kernelspec": {
   "display_name": "Python 3",
   "language": "python",
   "name": "python3"
  },
  "language_info": {
   "codemirror_mode": {
    "name": "ipython",
    "version": 3
   },
   "file_extension": ".py",
   "mimetype": "text/x-python",
   "name": "python",
   "nbconvert_exporter": "python",
   "pygments_lexer": "ipython3",
   "version": "3.7.1"
  }
 },
 "nbformat": 4,
 "nbformat_minor": 2
}
